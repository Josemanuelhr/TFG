{
 "cells": [
  {
   "cell_type": "markdown",
   "id": "a7974889-e4ff-4686-993d-b8c96d94c5f4",
   "metadata": {},
   "source": [
    "# Se observa que los modelos que usan arboles o bosques son muy buenos para nuestro problema a la hora de hacer predicciones"
   ]
  },
  {
   "cell_type": "markdown",
   "id": "6e6dce67-5647-4de5-b2b2-deaf5103cef4",
   "metadata": {},
   "source": [
    "# TODO: ¿Seria una buena idea hacer un 'Voting Regressor' a partir de los cuatro que han dado buenos resultados?\n",
    "## <b>En caso de serlo, la prioridad seria:</b> Random Forest > KNN > Decision Trees > SVM > Gaussian Processes"
   ]
  },
  {
   "cell_type": "markdown",
   "id": "42e310f5-8010-485c-bf25-e77bc1392ef9",
   "metadata": {},
   "source": [
    "# Modelos que no dan buenos resultados\n",
    "<ul>\n",
    "    <li><a href=\"https://scikit-learn.org/stable/modules/neural_networks_supervised.html#regression\">Neural Network</a></li>\n",
    "    <li><a href=\"https://scikit-learn.org/stable/modules/sgd.html#regression\">Stochastic Gradient Descent</a> no va bien ya que esta diseñado para problemas de un numero superior a 10.000 samples, en nuestro caso se tienen 885</li>\n",
    "    <li><a href=\"https://scikit-learn.org/stable/modules/linear_model.html#ridge-regression-and-classification\">Ridge</a></li>\n",
    "    <li><a href=\"https://scikit-learn.org/stable/modules/kernel_ridge.html\">Kernel Ridge</a></li>  \n",
    "    <li><a href=\"https://scikit-learn.org/stable/modules/linear_model.html#lasso\">Lasso</a></li>\n",
    "    <li><a href=\"https://scikit-learn.org/stable/modules/linear_model.html#elastic-net\">ElasticNet</a></li>\n",
    "    <li><a href=\"https://scikit-learn.org/stable/modules/cross_decomposition.html\">Cross decomposition</a> ninguna de sus 3 versiones</li>\n",
    "    <li><a href=\"https://scikit-learn.org/stable/modules/isotonic.html\">Isotonic regression</a></li>   \n",
    "</ul>"
   ]
  }
 ],
 "metadata": {
  "kernelspec": {
   "display_name": "Python 3",
   "language": "python",
   "name": "python3"
  },
  "language_info": {
   "codemirror_mode": {
    "name": "ipython",
    "version": 3
   },
   "file_extension": ".py",
   "mimetype": "text/x-python",
   "name": "python",
   "nbconvert_exporter": "python",
   "pygments_lexer": "ipython3",
   "version": "3.7.3"
  }
 },
 "nbformat": 4,
 "nbformat_minor": 5
}
