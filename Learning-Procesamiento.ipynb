{
 "cells": [
  {
   "cell_type": "markdown",
   "id": "b3dfa3bb-a125-4410-89f0-06c23d10d9ed",
   "metadata": {},
   "source": [
    "# Lectura del fichero csv"
   ]
  },
  {
   "cell_type": "code",
   "execution_count": 8,
   "id": "2f85ca30-2864-427f-b003-89a07efe8c7e",
   "metadata": {},
   "outputs": [],
   "source": [
    "%matplotlib qt\n",
    "\n",
    "import matplotlib\n",
    "import matplotlib.pyplot as plt\n",
    "import pathlib\n",
    "import mne\n",
    "import pandas as pd\n",
    "import numpy as np"
   ]
  },
  {
   "cell_type": "code",
   "execution_count": 9,
   "id": "ffeaea34-6965-4b1b-9e6c-4e1615ad53a3",
   "metadata": {},
   "outputs": [],
   "source": [
    "matplotlib.use('Qt5Agg')"
   ]
  },
  {
   "cell_type": "code",
   "execution_count": 273,
   "id": "7fff95b0-771e-4899-ba5d-c2bd8174e88f",
   "metadata": {},
   "outputs": [
    {
     "name": "stdout",
     "output_type": "stream",
     "text": [
      "Creating RawArray with float64 data, n_channels=9, n_times=45265\n",
      "    Range : 0 ... 45264 =      0.000 ...   181.056 secs\n",
      "Ready.\n"
     ]
    },
    {
     "data": {
      "text/plain": [
       "<RawArray | 9 x 45265 (181.1 s), ~3.1 MB, data loaded>"
      ]
     },
     "execution_count": 273,
     "metadata": {},
     "output_type": "execute_result"
    }
   ],
   "source": [
    "data = pd.read_csv('data.csv')\n",
    "\n",
    "# Quitamos las columnas de tiempo ya que mne trabaja con la sfreq\n",
    "data.drop([\"Time\", \"Timestamp\"], axis=1, inplace=True)\n",
    "\n",
    "sfreq = 250 # samples por segundo\n",
    "\n",
    "ch_types = [\"eeg\"]*(data.shape[1]-1)\n",
    "ch_types.append(\"stim\")\n",
    "\n",
    "# Usamos los nombres del csv\n",
    "ch_names = []\n",
    "for i in range(data.shape[1]):\n",
    "  ch_names.append(data.columns[i])\n",
    "\n",
    "montage = mne.channels.make_standard_montage(\"standard_1020\")\n",
    "info = mne.create_info(ch_names=ch_names, sfreq=sfreq, ch_types=ch_types)\n",
    "\n",
    "samples = data.T*1e-6 # Esta en uV en el fichero pero mne lo interpreta como V\n",
    "\n",
    "samples.values[8] *=1e+6 # Los eventos los devolvemos a su valor sin dividir por 1e-6\n",
    "\n",
    "raw = mne.io.RawArray(samples, info)\n",
    "raw.set_montage(montage = montage)"
   ]
  },
  {
   "cell_type": "code",
   "execution_count": null,
   "id": "a91f4563-8470-4cef-acd1-601a664762b3",
   "metadata": {},
   "outputs": [],
   "source": [
    "raw.save(pathlib.Path('out_data') / 'eeg_raw.fif', overwrite=True)"
   ]
  },
  {
   "cell_type": "code",
   "execution_count": 274,
   "id": "0a75b08b-00b1-4640-a6a3-f1e67648263e",
   "metadata": {},
   "outputs": [
    {
     "name": "stdout",
     "output_type": "stream",
     "text": [
      "111 events found\n",
      "Event IDs: [1 2]\n"
     ]
    }
   ],
   "source": [
    "events = mne.find_events(raw)"
   ]
  },
  {
   "cell_type": "code",
   "execution_count": 275,
   "id": "86a8aca9-679f-40aa-a713-3f1446d10f61",
   "metadata": {},
   "outputs": [],
   "source": [
    "# Creamos un diccionario para etiquetar los eventos\n",
    "events_id = {\n",
    "    'Target': 1,\n",
    "    'NoTarget': 2\n",
    "}"
   ]
  },
  {
   "cell_type": "code",
   "execution_count": 9,
   "id": "96758aa3-81b6-444c-8061-f2614a1530cc",
   "metadata": {},
   "outputs": [
    {
     "data": {
      "text/plain": [
       "<MNEBrowseFigure size 1575x1006 with 4 Axes>"
      ]
     },
     "execution_count": 9,
     "metadata": {},
     "output_type": "execute_result"
    },
    {
     "name": "stdout",
     "output_type": "stream",
     "text": [
      "Channels marked as bad: none\n"
     ]
    }
   ],
   "source": [
    "raw.plot(events=events, event_id=events_id)"
   ]
  },
  {
   "cell_type": "markdown",
   "id": "7243e266-9d20-4a14-8645-5a935d79b094",
   "metadata": {},
   "source": [
    "# Recortado y filtrado (notch y paso banda) del EEG"
   ]
  },
  {
   "cell_type": "code",
   "execution_count": 10,
   "id": "bf8afe09-e816-409b-8443-34f3abc508bb",
   "metadata": {},
   "outputs": [
    {
     "data": {
      "text/plain": [
       "array([19341,     0,     2], dtype=int64)"
      ]
     },
     "execution_count": 10,
     "metadata": {},
     "output_type": "execute_result"
    }
   ],
   "source": [
    "events[0]"
   ]
  },
  {
   "cell_type": "code",
   "execution_count": 16,
   "id": "ba392819-e678-4585-8fb2-02ce1e6461f7",
   "metadata": {},
   "outputs": [],
   "source": [
    "# El primer evento sucede en la sample 19341\n",
    "# El ultimo en la sample 32466\n",
    "\n",
    "# Recortamos los datos 100 antes de ese punto hasta 100 samples del ultimo\n",
    "\n",
    "start = events[0, 0] - 100\n",
    "end = events[-1, 0] + 100\n",
    "\n",
    "raw_cropped = raw.copy().crop(tmin=start/sfreq, tmax=end/sfreq)"
   ]
  },
  {
   "cell_type": "code",
   "execution_count": 33,
   "id": "3c26167d-3441-4057-9282-2460947d68a2",
   "metadata": {},
   "outputs": [
    {
     "data": {
      "text/plain": [
       "181.056"
      ]
     },
     "execution_count": 33,
     "metadata": {},
     "output_type": "execute_result"
    }
   ],
   "source": [
    "raw.times[-1] # Tiempo del original"
   ]
  },
  {
   "cell_type": "code",
   "execution_count": 34,
   "id": "940a439d-6424-497d-8ff0-ca7092ba5606",
   "metadata": {},
   "outputs": [
    {
     "data": {
      "text/plain": [
       "53.3"
      ]
     },
     "execution_count": 34,
     "metadata": {},
     "output_type": "execute_result"
    }
   ],
   "source": [
    "raw_cropped.times[-1] # Tiempo del recortado"
   ]
  },
  {
   "cell_type": "code",
   "execution_count": 24,
   "id": "8fd81e93-8070-498e-b350-06db9d9d62df",
   "metadata": {},
   "outputs": [
    {
     "data": {
      "text/plain": [
       "<MNEBrowseFigure size 1920x1017 with 4 Axes>"
      ]
     },
     "execution_count": 24,
     "metadata": {},
     "output_type": "execute_result"
    },
    {
     "name": "stdout",
     "output_type": "stream",
     "text": [
      "Channels marked as bad: none\n"
     ]
    }
   ],
   "source": [
    "raw_cropped.plot()"
   ]
  },
  {
   "cell_type": "code",
   "execution_count": 35,
   "id": "899aeafa-7b16-4aa3-b681-7096c9fe685f",
   "metadata": {},
   "outputs": [
    {
     "name": "stdout",
     "output_type": "stream",
     "text": [
      "111 events found\n",
      "Event IDs: [1 2]\n"
     ]
    }
   ],
   "source": [
    "# Volvemos a coger los eventos pero para la version recortada\n",
    "events = mne.find_events(raw_cropped)"
   ]
  },
  {
   "cell_type": "code",
   "execution_count": 52,
   "id": "d89889ca-64bd-4f19-905e-49082d144ef2",
   "metadata": {},
   "outputs": [
    {
     "name": "stdout",
     "output_type": "stream",
     "text": [
      "Setting up band-stop filter from 49 - 51 Hz\n",
      "\n",
      "FIR filter parameters\n",
      "---------------------\n",
      "Designing a one-pass, zero-phase, non-causal bandstop filter:\n",
      "- Windowed time-domain design (firwin) method\n",
      "- Hamming window with 0.0194 passband ripple and 53 dB stopband attenuation\n",
      "- Lower passband edge: 49.38\n",
      "- Lower transition bandwidth: 0.50 Hz (-6 dB cutoff frequency: 49.12 Hz)\n",
      "- Upper passband edge: 50.62 Hz\n",
      "- Upper transition bandwidth: 0.50 Hz (-6 dB cutoff frequency: 50.88 Hz)\n",
      "- Filter length: 1651 samples (6.604 sec)\n",
      "\n",
      "Filtering raw data in 1 contiguous segment\n",
      "Setting up band-pass filter from 1 - 50 Hz\n",
      "\n",
      "FIR filter parameters\n",
      "---------------------\n",
      "Designing a one-pass, zero-phase, non-causal bandpass filter:\n",
      "- Windowed time-domain design (firwin) method\n",
      "- Hamming window with 0.0194 passband ripple and 53 dB stopband attenuation\n",
      "- Lower passband edge: 1.00\n",
      "- Lower transition bandwidth: 1.00 Hz (-6 dB cutoff frequency: 0.50 Hz)\n",
      "- Upper passband edge: 50.00 Hz\n",
      "- Upper transition bandwidth: 12.50 Hz (-6 dB cutoff frequency: 56.25 Hz)\n",
      "- Filter length: 825 samples (3.300 sec)\n",
      "\n"
     ]
    }
   ],
   "source": [
    "raw_cropped_filtered = raw_cropped.copy().notch_filter(50)\n",
    "raw_cropped_filtered = raw_cropped_filtered.copy().filter(l_freq=1, h_freq=50)\n",
    "# En caso de que falle, es por que los datos al ser muchos no se han cargado, para ello\n",
    "# hay que hacer previamente un --> raw_cropped.load_data()"
   ]
  },
  {
   "cell_type": "code",
   "execution_count": 43,
   "id": "d8f25ec8-d30b-4563-8da2-c8d29a84c261",
   "metadata": {},
   "outputs": [
    {
     "data": {
      "text/plain": [
       "<MNEBrowseFigure size 958x1008 with 4 Axes>"
      ]
     },
     "execution_count": 43,
     "metadata": {},
     "output_type": "execute_result"
    },
    {
     "name": "stdout",
     "output_type": "stream",
     "text": [
      "Channels marked as bad: none\n",
      "Channels marked as bad: none\n"
     ]
    }
   ],
   "source": [
    "raw_cropped.plot(events=events, event_id=events_id, title=\"Sin paso banda\")\n",
    "raw_cropped_filtered.plot(events=events, event_id=events_id, title=\"Filtrada con paso banda\")"
   ]
  },
  {
   "cell_type": "code",
   "execution_count": 54,
   "id": "c179f661-6a33-467c-9606-c868bb44c228",
   "metadata": {},
   "outputs": [
    {
     "name": "stdout",
     "output_type": "stream",
     "text": [
      "Effective window size : 8.192 (s)\n",
      "Effective window size : 8.192 (s)\n"
     ]
    },
    {
     "name": "stderr",
     "output_type": "stream",
     "text": [
      "c:\\users\\usuario\\appdata\\local\\programs\\python\\python37\\lib\\site-packages\\ipykernel_launcher.py:12: UserWarning: This figure includes Axes that are not compatible with tight_layout, so results might be incorrect.\n",
      "  if sys.path[0] == '':\n"
     ]
    }
   ],
   "source": [
    "import matplotlib.pyplot as plt\n",
    "\n",
    "fig, ax = plt.subplots(2)\n",
    "\n",
    "raw_cropped.plot_psd(ax=ax[0], show=False)\n",
    "raw_cropped_filtered.plot_psd(ax=ax[1], show=False)\n",
    "\n",
    "ax[0].set_title('PSD before filtering')\n",
    "ax[1].set_title('PSD after filtering')\n",
    "ax[1].set_xlabel('Frequency (Hz)')\n",
    "fig.set_tight_layout(True)\n",
    "plt.show()"
   ]
  },
  {
   "cell_type": "markdown",
   "id": "a5a3b288-d937-47b6-97eb-7996168a023c",
   "metadata": {},
   "source": [
    "# Guardamos los datos en formato FIF"
   ]
  },
  {
   "cell_type": "code",
   "execution_count": 58,
   "id": "6159ffb5-1089-4c11-87c0-0b4a57e05b6e",
   "metadata": {},
   "outputs": [
    {
     "name": "stdout",
     "output_type": "stream",
     "text": [
      "Writing E:\\UNIVERSIDAD\\TFG\\pybrain_mne\\out_data\\eeg_cropped_filt_raw.fif\n",
      "Closing E:\\UNIVERSIDAD\\TFG\\pybrain_mne\\out_data\\eeg_cropped_filt_raw.fif\n",
      "[done]\n"
     ]
    }
   ],
   "source": [
    "raw_cropped_filtered.save(pathlib.Path('out_data') / 'eeg_cropped_filt_raw.fif', overwrite=True)"
   ]
  },
  {
   "cell_type": "markdown",
   "id": "c66d4968-aaea-4fc3-ba1c-7d4072504903",
   "metadata": {},
   "source": [
    "# Para mayor compatibilidad y portabilidad organizo los datos en base a la especificacion BIDS\n",
    "Especificacion: https://mne.tools/mne-bids/stable/index.html"
   ]
  },
  {
   "cell_type": "code",
   "execution_count": 1,
   "id": "01e50163-137b-4f6c-be58-175bd59289f0",
   "metadata": {},
   "outputs": [],
   "source": [
    "import mne_bids"
   ]
  },
  {
   "cell_type": "code",
   "execution_count": 252,
   "id": "f3ceb789-7eb2-49c1-a8f6-94cbdfa8582a",
   "metadata": {},
   "outputs": [
    {
     "name": "stdout",
     "output_type": "stream",
     "text": [
      "Opening raw data file out_data/eeg_raw.fif...\n",
      "    Range : 0 ... 45264 =      0.000 ...   181.056 secs\n",
      "Ready.\n",
      "111 events found\n",
      "Event IDs: [1 2]\n"
     ]
    }
   ],
   "source": [
    "raw = mne.io.read_raw('out_data/eeg_raw.fif')\n",
    "\n",
    "events = mne.find_events(raw)\n",
    "events_id = {\n",
    "    'Target': 1,\n",
    "    'NoTarget': 2\n",
    "}"
   ]
  },
  {
   "cell_type": "code",
   "execution_count": 253,
   "id": "7eb36f17-5b5a-4403-8cf5-ad2ffe1a1a94",
   "metadata": {},
   "outputs": [],
   "source": [
    "# Especificamos la frecuencia de la red electrica a la que se realiza el experimento\n",
    "raw.info['line_freq'] = 50"
   ]
  },
  {
   "cell_type": "code",
   "execution_count": 254,
   "id": "674190c4-3915-4764-aa58-530c46fc804f",
   "metadata": {},
   "outputs": [],
   "source": [
    "# Si queremos especificar informacion del sujeto\n",
    "subject_info = {\n",
    "    'sex': 1,\n",
    "    'hand': 2,\n",
    "    'birthday': (1999, 8, 23)\n",
    "}\n",
    "\n",
    "raw.info['subject_info'] = subject_info"
   ]
  },
  {
   "cell_type": "code",
   "execution_count": 213,
   "id": "cbc20cfd-929c-499f-b4ac-fb55eb9b2d5e",
   "metadata": {},
   "outputs": [],
   "source": [
    "# TODO: establecer la fecha del experimento, ¿como? ¿raw.info['meas_date']?\n",
    "raw.info['meas_date'] = datetime.datetime(2002, 12, 3, 19, 1, 10, 720100, tzinfo=datetime.timezone.utc)"
   ]
  },
  {
   "cell_type": "code",
   "execution_count": 255,
   "id": "706b7caf-1dda-4f66-824a-79e5f4d2a2fe",
   "metadata": {},
   "outputs": [
    {
     "name": "stdout",
     "output_type": "stream",
     "text": [
      "Opening raw data file out_data/eeg_raw.fif...\n",
      "    Range : 0 ... 45264 =      0.000 ...   181.056 secs\n",
      "Ready.\n",
      "Reading 0 ... 45264  =      0.000 ...   181.056 secs...\n"
     ]
    },
    {
     "data": {
      "text/plain": [
       "BIDSPath(\n",
       "root: out_data\\sample_BIDS\n",
       "datatype: eeg\n",
       "basename: sub-01_ses-01_task-visual_run-01_eeg.vhdr)"
      ]
     },
     "execution_count": 255,
     "metadata": {},
     "output_type": "execute_result"
    }
   ],
   "source": [
    "out_path = pathlib.Path('out_data/sample_BIDS')\n",
    "\n",
    "bids_path = mne_bids.BIDSPath(subject='01',\n",
    "                              session='01',\n",
    "                              task='visual',\n",
    "                              run='01',\n",
    "                              root=out_path)\n",
    "\n",
    "# Añadimos los eventos tambien a los datos en formato BIDS\n",
    "mne_bids.write_raw_bids(raw, bids_path=bids_path, events_data=events, event_id=events_id, overwrite=True, verbose=False)\n",
    "# Parametro verbose=False para que no salga tanto texto"
   ]
  },
  {
   "cell_type": "code",
   "execution_count": 256,
   "id": "cdb460d5-1af6-45c7-a324-cdcdc81df39c",
   "metadata": {},
   "outputs": [
    {
     "name": "stdout",
     "output_type": "stream",
     "text": [
      "|sample_BIDS\\\n",
      "|--- README\n",
      "|--- dataset_description.json\n",
      "|--- participants.json\n",
      "|--- participants.tsv\n",
      "|--- .ipynb_checkpoints\\\n",
      "|------ README-checkpoint\n",
      "|------ dataset_description-checkpoint.json\n",
      "|--- sub-01\\\n",
      "|------ ses-01\\\n",
      "|--------- sub-01_ses-01_scans.tsv\n",
      "|--------- .ipynb_checkpoints\\\n",
      "|------------ sub-01_ses-01_scans-checkpoint.tsv\n",
      "|--------- eeg\\\n",
      "|------------ sub-01_ses-01_coordsystem.json\n",
      "|------------ sub-01_ses-01_electrodes.tsv\n",
      "|------------ sub-01_ses-01_task-visual_run-01_channels.tsv\n",
      "|------------ sub-01_ses-01_task-visual_run-01_eeg.eeg\n",
      "|------------ sub-01_ses-01_task-visual_run-01_eeg.json\n",
      "|------------ sub-01_ses-01_task-visual_run-01_eeg.vhdr\n",
      "|------------ sub-01_ses-01_task-visual_run-01_eeg.vmrk\n",
      "|------------ sub-01_ses-01_task-visual_run-01_events.tsv\n"
     ]
    }
   ],
   "source": [
    "mne_bids.print_dir_tree(out_path)"
   ]
  },
  {
   "cell_type": "code",
   "execution_count": 10,
   "id": "42b294bc-9caf-4cb8-978d-78ec4c3155a5",
   "metadata": {},
   "outputs": [
    {
     "name": "stdout",
     "output_type": "stream",
     "text": [
      "Extracting parameters from out_data\\sample_BIDS\\sub-01\\ses-01\\eeg\\sub-01_ses-01_task-visual_run-01_eeg.vhdr...\n",
      "Setting channel info structure...\n",
      "Reading events from out_data\\sample_BIDS\\sub-01\\ses-01\\eeg\\sub-01_ses-01_task-visual_run-01_events.tsv.\n",
      "Reading channel info from out_data\\sample_BIDS\\sub-01\\ses-01\\eeg\\sub-01_ses-01_task-visual_run-01_channels.tsv.\n",
      "Reading electrode coords from out_data\\sample_BIDS\\sub-01\\ses-01\\eeg\\sub-01_ses-01_electrodes.tsv.\n"
     ]
    },
    {
     "name": "stderr",
     "output_type": "stream",
     "text": [
      "<ipython-input-10-55cddb179ab5>:10: RuntimeWarning: The unit for channel(s) Estimulo has changed from V to NA.\n",
      "  raw = mne_bids.read_raw_bids(bids_path, verbose=False)\n",
      "<ipython-input-10-55cddb179ab5>:10: RuntimeWarning: There are channels without locations (n/a) that are not marked as bad: ['Estimulo']\n",
      "  raw = mne_bids.read_raw_bids(bids_path, verbose=False)\n"
     ]
    }
   ],
   "source": [
    "bids_root = pathlib.Path('out_data/sample_BIDS')\n",
    "\n",
    "bids_path = mne_bids.BIDSPath(subject='01',\n",
    "                              session='01',\n",
    "                              task='visual',\n",
    "                              run='01',\n",
    "                              datatype='eeg',\n",
    "                              root=bids_root)\n",
    "\n",
    "raw = mne_bids.read_raw_bids(bids_path, verbose=False)"
   ]
  },
  {
   "cell_type": "code",
   "execution_count": 11,
   "id": "8c44f1b1-ddcb-4579-9244-0d642e342f50",
   "metadata": {},
   "outputs": [
    {
     "data": {
      "image/png": "[encoded data removed]",
      "text/plain": [
       "<MNEBrowseFigure size 956x1006 with 4 Axes>"
      ]
     },
     "execution_count": 11,
     "metadata": {},
     "output_type": "execute_result"
    },
    {
     "name": "stdout",
     "output_type": "stream",
     "text": [
      "Channels marked as bad: none\n"
     ]
    }
   ],
   "source": [
    "raw.plot()"
   ]
  },
  {
   "cell_type": "code",
   "execution_count": 260,
   "id": "6a109f67-5a24-4b04-81e8-3e70f228884c",
   "metadata": {},
   "outputs": [
    {
     "data": {
      "text/plain": [
       "<Annotations | 111 segments: NoTarget (106), Target (5)>"
      ]
     },
     "execution_count": 260,
     "metadata": {},
     "output_type": "execute_result"
    }
   ],
   "source": [
    "raw.annotations"
   ]
  },
  {
   "cell_type": "code",
   "execution_count": 263,
   "id": "8c3ee6b4-f711-4617-9aa4-514cc5bf0d74",
   "metadata": {},
   "outputs": [
    {
     "name": "stdout",
     "output_type": "stream",
     "text": [
      "Used Annotations descriptions: ['NoTarget', 'Target']\n"
     ]
    }
   ],
   "source": [
    "# Por algun motivo las id's pasan de valor n a valor 10000+n\n",
    "events, events_id = mne.events_from_annotations(raw)"
   ]
  },
  {
   "cell_type": "code",
   "execution_count": 234,
   "id": "c5fd811c-112c-4d4b-8d0a-538a2dda9aa3",
   "metadata": {},
   "outputs": [
    {
     "data": {
      "text/plain": [
       "<Figure size 1092x480 with 1 Axes>"
      ]
     },
     "execution_count": 234,
     "metadata": {},
     "output_type": "execute_result"
    }
   ],
   "source": [
    "mne.viz.plot_events(events, event_id=event_id, sfreq=raw.info['sfreq'])"
   ]
  },
  {
   "cell_type": "markdown",
   "id": "63f3a216-ed82-4e23-8518-4648af7caff9",
   "metadata": {},
   "source": [
    "# Creacion de 'Epochs'"
   ]
  },
  {
   "cell_type": "code",
   "execution_count": 279,
   "id": "0fbc09f9-ab5e-4ae7-9fed-c693e292aa6c",
   "metadata": {},
   "outputs": [
    {
     "name": "stdout",
     "output_type": "stream",
     "text": [
      "Extracting parameters from out_data\\sample_BIDS\\sub-01\\ses-01\\eeg\\sub-01_ses-01_task-visual_run-01_eeg.vhdr...\n",
      "Setting channel info structure...\n",
      "Reading events from out_data\\sample_BIDS\\sub-01\\ses-01\\eeg\\sub-01_ses-01_task-visual_run-01_events.tsv.\n",
      "Reading channel info from out_data\\sample_BIDS\\sub-01\\ses-01\\eeg\\sub-01_ses-01_task-visual_run-01_channels.tsv.\n",
      "Reading electrode coords from out_data\\sample_BIDS\\sub-01\\ses-01\\eeg\\sub-01_ses-01_electrodes.tsv.\n",
      "Reading 0 ... 45264  =      0.000 ...   181.056 secs...\n",
      "Filtering raw data in 1 contiguous segment\n",
      "Setting up band-pass filter from 1 - 17 Hz\n",
      "\n",
      "FIR filter parameters\n",
      "---------------------\n",
      "Designing a one-pass, zero-phase, non-causal bandpass filter:\n",
      "- Windowed time-domain design (firwin) method\n",
      "- Hamming window with 0.0194 passband ripple and 53 dB stopband attenuation\n",
      "- Lower passband edge: 1.00\n",
      "- Lower transition bandwidth: 1.00 Hz (-6 dB cutoff frequency: 0.50 Hz)\n",
      "- Upper passband edge: 17.00 Hz\n",
      "- Upper transition bandwidth: 4.25 Hz (-6 dB cutoff frequency: 19.12 Hz)\n",
      "- Filter length: 825 samples (3.300 sec)\n",
      "\n",
      "Used Annotations descriptions: ['NoTarget', 'Target']\n"
     ]
    },
    {
     "name": "stderr",
     "output_type": "stream",
     "text": [
      "<ipython-input-279-d59623a98906>:11: RuntimeWarning: The unit for channel(s) Estimulo has changed from V to NA.\n",
      "  raw = mne_bids.read_raw_bids(bids_path, verbose=False)\n",
      "<ipython-input-279-d59623a98906>:11: RuntimeWarning: There are channels without locations (n/a) that are not marked as bad: ['Estimulo']\n",
      "  raw = mne_bids.read_raw_bids(bids_path, verbose=False)\n"
     ]
    }
   ],
   "source": [
    "# Cargamos los datos en formato BIDS\n",
    "bids_root = pathlib.Path('out_data/sample_BIDS')\n",
    "\n",
    "bids_path = mne_bids.BIDSPath(subject='01',\n",
    "                              session='01',\n",
    "                              task='visual',\n",
    "                              run='01',\n",
    "                              datatype='eeg',\n",
    "                              root=bids_root)\n",
    "\n",
    "raw = mne_bids.read_raw_bids(bids_path, verbose=False)\n",
    "\n",
    "raw.load_data() # Importante cargarla, ya no hay precarga de datos\n",
    "\n",
    "raw.filter(l_freq=1, h_freq=17)\n",
    "events, events_id = mne.events_from_annotations(raw)"
   ]
  },
  {
   "cell_type": "code",
   "execution_count": 280,
   "id": "279ed87d-3bc1-49c7-8dc3-7162d9e96c49",
   "metadata": {},
   "outputs": [
    {
     "data": {
      "text/plain": [
       "{'NoTarget': 10001, 'Target': 10002}"
      ]
     },
     "execution_count": 280,
     "metadata": {},
     "output_type": "execute_result"
    }
   ],
   "source": [
    "events_id"
   ]
  },
  {
   "cell_type": "code",
   "execution_count": 352,
   "id": "25bb82bf-8e83-4356-b143-638bbae2c368",
   "metadata": {},
   "outputs": [
    {
     "name": "stdout",
     "output_type": "stream",
     "text": [
      "Not setting metadata\n",
      "Not setting metadata\n",
      "111 matching events found\n",
      "Setting baseline interval to [-0.3, 0.0] sec\n",
      "Applying baseline correction (mode: mean)\n",
      "0 projection items activated\n",
      "Loading data for 111 events and 226 original time points ...\n",
      "0 bad epochs dropped\n"
     ]
    },
    {
     "data": {
      "text/plain": [
       "<Epochs |  111 events (all good), -0.3 - 0.6 sec, baseline [-0.3, 0] sec, ~1.7 MB, data loaded,\n",
       " 'NoTarget': 106\n",
       " 'Target': 5>"
      ]
     },
     "execution_count": 352,
     "metadata": {},
     "output_type": "execute_result"
    }
   ],
   "source": [
    "# Tiempo en segundos\n",
    "tmin = -0.3\n",
    "tmax = 0.6\n",
    "\n",
    "# The time interval to consider as “baseline” when applying baseline correction\n",
    "# Desde el inicio de la Epoc (None), hasta el momento en el que justo se da t= 0\n",
    "baseline = (None, 0)\n",
    "# baseline = (-0.2, 0) para coger 200ms desde antes del estimulo hasta el t=0\n",
    "\n",
    "# Correction is applied to each epoch and channel individually in the following way:\n",
    "    # 1.- Calculate the mean signal of the baseline period.\n",
    "    # 2.- Subtract this mean from the entire epoch.\n",
    "\n",
    "epochs = mne.Epochs(raw,\n",
    "                    events=events,\n",
    "                    event_id=events_id,\n",
    "                    tmin=tmin,\n",
    "                    tmax=tmax,\n",
    "                    baseline=baseline,\n",
    "                    preload=True)\n",
    "epochs"
   ]
  },
  {
   "cell_type": "code",
   "execution_count": 289,
   "id": "cf41b4f3-bf24-4e3b-a837-f8deea5f5a54",
   "metadata": {},
   "outputs": [
    {
     "data": {
      "text/plain": [
       "<MNEBrowseFigure size 1920x1017 with 4 Axes>"
      ]
     },
     "execution_count": 289,
     "metadata": {},
     "output_type": "execute_result"
    },
    {
     "name": "stdout",
     "output_type": "stream",
     "text": [
      "Dropped 0 epochs: \n",
      "Channels marked as bad: none\n"
     ]
    }
   ],
   "source": [
    "epochs.plot(events=events, event_id=events_id)"
   ]
  },
  {
   "cell_type": "code",
   "execution_count": 353,
   "id": "98122713-900f-4773-9d6e-c5939d34170b",
   "metadata": {},
   "outputs": [
    {
     "data": {
      "text/plain": [
       "<Epochs |  111 events (all good), -0.3 - 0.6 sec, baseline [-0.3, 0] sec, ~1.7 MB, data loaded,\n",
       " 'NoTarget': 106\n",
       " 'Target': 5>"
      ]
     },
     "execution_count": 353,
     "metadata": {},
     "output_type": "execute_result"
    }
   ],
   "source": [
    "epochs"
   ]
  },
  {
   "cell_type": "code",
   "execution_count": 284,
   "id": "89d996a0-b083-4046-8ca7-296c2c7d9004",
   "metadata": {},
   "outputs": [],
   "source": [
    "# Tras descartar una Epoch, vemos que se ha eliminado de nuestro conjunto de epocas"
   ]
  },
  {
   "cell_type": "code",
   "execution_count": 311,
   "id": "165b6e58-2bc7-405f-b7d5-7c76e9e4e311",
   "metadata": {},
   "outputs": [
    {
     "data": {
      "text/plain": [
       "<MNEBrowseFigure size 1920x1017 with 4 Axes>"
      ]
     },
     "execution_count": 311,
     "metadata": {},
     "output_type": "execute_result"
    },
    {
     "name": "stdout",
     "output_type": "stream",
     "text": [
      "Dropped 0 epochs: \n",
      "Channels marked as bad: none\n"
     ]
    }
   ],
   "source": [
    "# Nos podemos quedar con las epocas de un solo tipo de estimulo\n",
    "epochs['Target'].plot(events=events, event_id=events_id)"
   ]
  },
  {
   "cell_type": "code",
   "execution_count": 318,
   "id": "43a67770-bb5e-4db5-aac7-e810c3247b82",
   "metadata": {},
   "outputs": [
    {
     "name": "stdout",
     "output_type": "stream",
     "text": [
      "Not setting metadata\n",
      "Not setting metadata\n",
      "5 matching events found\n",
      "No baseline correction applied\n",
      "0 projection items activated\n",
      "0 bad epochs dropped\n",
      "combining channels using \"gfp\"\n"
     ]
    },
    {
     "data": {
      "text/plain": [
       "[<Figure size 640x480 with 3 Axes>]"
      ]
     },
     "execution_count": 318,
     "metadata": {},
     "output_type": "execute_result"
    }
   ],
   "source": [
    "epochs['Target'].plot_image()\n",
    "# Se muestra un grafico del voltaje y una grafica del valor medio en cada punto\n",
    "# Basicamente lo mismo pero abajo todas las Epochs juntas"
   ]
  },
  {
   "cell_type": "markdown",
   "id": "6d6f0270-7332-4836-a52f-bd96da8370fe",
   "metadata": {},
   "source": [
    "# Guardamos las 'Epochs'"
   ]
  },
  {
   "cell_type": "code",
   "execution_count": 354,
   "id": "af4ee934-b26e-44bc-94e7-96c46f662584",
   "metadata": {},
   "outputs": [
    {
     "name": "stdout",
     "output_type": "stream",
     "text": [
      "Overwriting existing file.\n"
     ]
    }
   ],
   "source": [
    "epochs.save(pathlib.Path('out_data') / 'epochs_epo.fif', overwrite=True)"
   ]
  },
  {
   "cell_type": "markdown",
   "id": "4d4013ed-371d-462a-be6f-7ffb72dc1c4c",
   "metadata": {},
   "source": [
    "# Tratamiento de ERP"
   ]
  },
  {
   "cell_type": "code",
   "execution_count": 355,
   "id": "71c51173-9f44-4d57-87c1-f99ca4f668f6",
   "metadata": {},
   "outputs": [],
   "source": [
    "evoked = epochs['Target'].average()"
   ]
  },
  {
   "cell_type": "code",
   "execution_count": 356,
   "id": "e9173270-94de-41da-b223-e1a75a815e97",
   "metadata": {},
   "outputs": [
    {
     "data": {
      "text/plain": [
       "<Evoked | 'Target' (average, N=5), [-0.3, 0.6] sec, 8 ch, ~31 kB>"
      ]
     },
     "execution_count": 356,
     "metadata": {},
     "output_type": "execute_result"
    }
   ],
   "source": [
    "evoked"
   ]
  },
  {
   "cell_type": "code",
   "execution_count": 357,
   "id": "3c1ef69e-f861-49cd-bcfe-81839a7bc22f",
   "metadata": {},
   "outputs": [
    {
     "data": {
      "text/plain": [
       "<Figure size 640x300 with 2 Axes>"
      ]
     },
     "execution_count": 357,
     "metadata": {},
     "output_type": "execute_result"
    }
   ],
   "source": [
    "evoked.plot(spatial_colors=True)"
   ]
  },
  {
   "cell_type": "code",
   "execution_count": 358,
   "id": "176e09fc-26ad-4b02-b7bc-b978b196ab41",
   "metadata": {},
   "outputs": [
    {
     "data": {
      "text/plain": [
       "<MNEFigure size 900x610 with 15 Axes>"
      ]
     },
     "execution_count": 358,
     "metadata": {},
     "output_type": "execute_result"
    }
   ],
   "source": [
    "times=np.arange(-0.05, 0.61, 0.05)\n",
    "evoked.plot_topomap(ch_type='eeg', times=times, nrows=3)\n",
    "# Se puede observar el caracteristico descenso del voltaje del P300"
   ]
  },
  {
   "cell_type": "code",
   "execution_count": 359,
   "id": "d9c99f2a-2ddb-475c-af1d-fafe23907938",
   "metadata": {},
   "outputs": [
    {
     "name": "stdout",
     "output_type": "stream",
     "text": [
      "No projector specified for this dataset. Please consider the method self.add_proj.\n"
     ]
    },
    {
     "data": {
      "text/plain": [
       "<Figure size 800x420 with 7 Axes>"
      ]
     },
     "execution_count": 359,
     "metadata": {},
     "output_type": "execute_result"
    }
   ],
   "source": [
    "# Combinacion de las anteriores\n",
    "# Interesante porque añade marcas de tiempo a los topomapas autogenerados\n",
    "evoked.plot_joint(picks='eeg')"
   ]
  },
  {
   "cell_type": "code",
   "execution_count": 364,
   "id": "5d4e2141-59ea-41fe-8f15-e44a9e91b52c",
   "metadata": {},
   "outputs": [
    {
     "name": "stdout",
     "output_type": "stream",
     "text": [
      "combining channels using \"gfp\"\n",
      "combining channels using \"gfp\"\n"
     ]
    },
    {
     "data": {
      "text/plain": [
       "[<Figure size 800x600 with 1 Axes>]"
      ]
     },
     "execution_count": 364,
     "metadata": {},
     "output_type": "execute_result"
    }
   ],
   "source": [
    "# Comparacion entre los ERP de Target y NoTarget\n",
    "# Se ve perfectamente los P300 respecto a los NoTargets\n",
    "evoked_nt = epochs['NoTarget'].average()\n",
    "mne.viz.plot_compare_evokeds([evoked, evoked_nt], picks='eeg')\n",
    "\n",
    "# https://www.microsiervos.com/images/OndaP300.jpg"
   ]
  },
  {
   "cell_type": "markdown",
   "id": "8d973f28-eab8-4ca9-8055-a585448cfe98",
   "metadata": {},
   "source": [
    "# Almacenamiento y Carga de ERPs\n",
    "No muy util ya que no cuesta nada generarlo"
   ]
  },
  {
   "cell_type": "code",
   "execution_count": 365,
   "id": "71ec3f08-13f5-4284-847c-674b1c0cdae3",
   "metadata": {},
   "outputs": [],
   "source": [
    "mne.write_evokeds(fname=pathlib.Path('out_data') / 'evokeds_ave.fif',\n",
    "                  evoked=[evoked, evoked_nt])"
   ]
  },
  {
   "cell_type": "code",
   "execution_count": 366,
   "id": "f19c873f-f09d-4f1b-95d8-b4b73a01c819",
   "metadata": {},
   "outputs": [
    {
     "name": "stdout",
     "output_type": "stream",
     "text": [
      "Reading out_data\\evokeds_ave.fif ...\n",
      "    Found the data of interest:\n",
      "        t =    -300.00 ...     600.00 ms (Target)\n",
      "        0 CTF compensation matrices available\n",
      "        nave = 5 - aspect type = 100\n",
      "No projector specified for this dataset. Please consider the method self.add_proj.\n",
      "No baseline correction applied\n",
      "    Found the data of interest:\n",
      "        t =    -300.00 ...     600.00 ms (NoTarget)\n",
      "        0 CTF compensation matrices available\n",
      "        nave = 106 - aspect type = 100\n",
      "No projector specified for this dataset. Please consider the method self.add_proj.\n",
      "No baseline correction applied\n"
     ]
    },
    {
     "data": {
      "text/plain": [
       "[<Evoked | 'Target' (average, N=5), [-0.3, 0.6] sec, 8 ch, ~32 kB>,\n",
       " <Evoked | 'NoTarget' (average, N=106), [-0.3, 0.6] sec, 8 ch, ~32 kB>]"
      ]
     },
     "execution_count": 366,
     "metadata": {},
     "output_type": "execute_result"
    }
   ],
   "source": [
    "evokeds = mne.read_evokeds(fname=pathlib.Path('out_data') / 'evokeds_ave.fif')\n",
    "evokeds"
   ]
  },
  {
   "cell_type": "code",
   "execution_count": 367,
   "id": "6a179f04-05ee-4856-adf8-7781b1ca9133",
   "metadata": {},
   "outputs": [
    {
     "data": {
      "text/plain": [
       "<Evoked | 'Target' (average, N=5), [-0.3, 0.6] sec, 8 ch, ~32 kB>"
      ]
     },
     "execution_count": 367,
     "metadata": {},
     "output_type": "execute_result"
    }
   ],
   "source": [
    "evokeds[0]"
   ]
  },
  {
   "cell_type": "markdown",
   "id": "a613332a-cf13-45d0-a5a5-e86d69a8860c",
   "metadata": {},
   "source": [
    "# Eliminacion de artefactos"
   ]
  },
  {
   "cell_type": "code",
   "execution_count": 9,
   "id": "aa0ee42a-322a-4b62-bdf7-7b3ffbcdf21e",
   "metadata": {},
   "outputs": [],
   "source": [
    "import pathlib\n",
    "import matplotlib\n",
    "\n",
    "import mne\n",
    "import mne_bids\n",
    "\n",
    "matplotlib.use('Qt5Agg')\n",
    "mne.set_log_level('warning')"
   ]
  },
  {
   "cell_type": "code",
   "execution_count": 10,
   "id": "06d75c98-69a2-4a70-b784-cae2a8d1b1c1",
   "metadata": {},
   "outputs": [
    {
     "data": {
      "text/plain": [
       "<EpochsFIF |  111 events (all good), -0.3 - 0.6 sec, baseline [-0.3, 0] sec, ~1.7 MB, data loaded,\n",
       " 'NoTarget': 106\n",
       " 'Target': 5>"
      ]
     },
     "execution_count": 10,
     "metadata": {},
     "output_type": "execute_result"
    }
   ],
   "source": [
    "epochs = mne.read_epochs(pathlib.Path('out_data') / 'epochs_epo.fif')\n",
    "epochs"
   ]
  },
  {
   "cell_type": "code",
   "execution_count": 11,
   "id": "80f6464f-b122-42b5-a7c6-312fd074912b",
   "metadata": {},
   "outputs": [
    {
     "data": {
      "text/plain": [
       "<MNEBrowseFigure size 958x1008 with 4 Axes>"
      ]
     },
     "execution_count": 11,
     "metadata": {},
     "output_type": "execute_result"
    }
   ],
   "source": [
    "epochs.plot()"
   ]
  },
  {
   "cell_type": "code",
   "execution_count": 15,
   "id": "e70f4d0c-d696-40dd-81a9-5cc7c38d8ee5",
   "metadata": {},
   "outputs": [],
   "source": [
    "# Reject epochs based on peak-to-peak signal amplitude (PTP)\n",
    "# In each individual epoch, the PTP is calculated for every channel.\n",
    "    # If the PTP of any one channel exceeds the threshold, the epoch will be dropped.\n",
    "reject_criteria = dict(mag=3000e-15,     # 3000 fT\n",
    "                       grad=3000e-13,    # 3000 fT/cm\n",
    "                       eeg=150e-6,       # 150 µV\n",
    "                       eog=200e-6)       # 200 µV\n",
    "\n",
    "# Rejection parameters based on flatness of signal\n",
    "# The values are floats that set the minimum acceptable peak-to-peak amplitude (PTP)\n",
    "flat_criteria = dict(mag=1e-15,          # 1 fT\n",
    "                     grad=1e-13,         # 1 fT/cm\n",
    "                     eeg=1e-6)           # 1 µV\n",
    "\n",
    "# Ya que solo usamos eeg, las demas entradas deben quitarse, el anterior es un ejemplo\n",
    "reject_criteria = dict(eeg=150e-6)       # 150 µV\n",
    "\n",
    "flat_criteria = dict(eeg=1e-6)           # 1 µV"
   ]
  },
  {
   "cell_type": "code",
   "execution_count": 16,
   "id": "7cedf277-965a-4186-a688-037bf1bf7a30",
   "metadata": {},
   "outputs": [
    {
     "data": {
      "text/plain": [
       "<EpochsFIF |  98 events (all good), -0.3 - 0.6 sec, baseline [-0.3, 0] sec, ~1.5 MB, data loaded,\n",
       " 'NoTarget': 93\n",
       " 'Target': 5>"
      ]
     },
     "execution_count": 16,
     "metadata": {},
     "output_type": "execute_result"
    }
   ],
   "source": [
    "epochs.drop_bad(reject=reject_criteria, flat=flat_criteria)"
   ]
  },
  {
   "cell_type": "code",
   "execution_count": 19,
   "id": "52288dae-bcdd-490b-a2fd-149442a6a315",
   "metadata": {},
   "outputs": [
    {
     "data": {
      "text/plain": [
       "<Figure size 640x480 with 1 Axes>"
      ]
     },
     "execution_count": 19,
     "metadata": {},
     "output_type": "execute_result"
    }
   ],
   "source": [
    "epochs.plot_drop_log()\n",
    "# Unknown se refiere al nombre del sujeto"
   ]
  },
  {
   "cell_type": "code",
   "execution_count": 22,
   "id": "6cacfb5e-a606-4fb5-8e2b-e4696b403bef",
   "metadata": {},
   "outputs": [
    {
     "data": {
      "text/plain": [
       "[<Figure size 640x480 with 3 Axes>]"
      ]
     },
     "execution_count": 22,
     "metadata": {},
     "output_type": "execute_result"
    }
   ],
   "source": [
    "epochs['Target'].plot_image()"
   ]
  },
  {
   "cell_type": "code",
   "execution_count": 30,
   "id": "9b4dede3-97ca-411b-b22c-83d53288d4cb",
   "metadata": {},
   "outputs": [
    {
     "data": {
      "text/plain": [
       "<Figure size 640x640 with 1 Axes>"
      ]
     },
     "execution_count": 30,
     "metadata": {},
     "output_type": "execute_result"
    }
   ],
   "source": [
    "epochs.plot_sensors(ch_type='eeg')"
   ]
  },
  {
   "cell_type": "code",
   "execution_count": null,
   "id": "be7c8c5c-a402-4ff5-85c9-f3d5f0525889",
   "metadata": {},
   "outputs": [],
   "source": [
    "# Miramos una imagen mas detallada del canal O1"
   ]
  },
  {
   "cell_type": "code",
   "execution_count": 32,
   "id": "ab3f7304-8ef5-41d8-b95e-77cc7032e661",
   "metadata": {},
   "outputs": [
    {
     "data": {
      "text/plain": [
       "[<Figure size 640x480 with 4 Axes>]"
      ]
     },
     "execution_count": 32,
     "metadata": {},
     "output_type": "execute_result"
    }
   ],
   "source": [
    "epochs['Target'].plot_image(picks='O1')"
   ]
  },
  {
   "cell_type": "markdown",
   "id": "f41a933a-87ec-4bc7-b5d6-ec81446ea251",
   "metadata": {},
   "source": [
    "# SSP (Signal-Space projection) para quitar artefactos del parpadeo pero no eliminar Epochs\n",
    "mayor uso en EMG, **no muy util para el TFG**\n",
    "\n",
    "**se puede usar si se tiene un canal de EOG para eliminar los artefactos del parpadeo**"
   ]
  },
  {
   "cell_type": "code",
   "execution_count": null,
   "id": "78ecfc36-2aa9-4497-89b0-28e6db1e011d",
   "metadata": {},
   "outputs": [],
   "source": [
    "bids_root = pathlib.Path('out_data/sample_BIDS')\n",
    "\n",
    "bids_path = mne_bids.BIDSPath(subject='01',\n",
    "                              session='01',\n",
    "                              task='visual',\n",
    "                              run='01',\n",
    "                              datatype='eeg',\n",
    "                              root=bids_root)\n",
    "\n",
    "raw = mne_bids.read_raw_bids(bids_path)\n",
    "raw.load_data()\n",
    "raw.filter(l_freq=0.1, h_freq=40)\n",
    "\n",
    "# Tambien se puede aplicar al ECG, no nos interesa tanto\n",
    "#ecg_projs, ecg_events = mne.preprocessing.compute_proj_ecg(raw, n_grad=1, n_mag=1, n_eeg=0, average=True)\n",
    "\n",
    "# Ya que no tenemos canal propio de EOG, debemos seleccionar uno del EEG\n",
    "eog_projs, eog_events = mne.preprocessing.compute_proj_eog(raw, n_grad=1, n_mag=1, n_eeg=1, ch_name='O2', average=True)"
   ]
  },
  {
   "cell_type": "code",
   "execution_count": 121,
   "id": "37174a1d-ab64-40c8-a2df-dcfe293dde8c",
   "metadata": {},
   "outputs": [],
   "source": [
    "eog_projs"
   ]
  },
  {
   "cell_type": "code",
   "execution_count": null,
   "id": "fa33a8ce-1ade-4337-beaa-14466b8fbf20",
   "metadata": {},
   "outputs": [],
   "source": [
    "epochs.add_proj(eog_projs)"
   ]
  },
  {
   "cell_type": "code",
   "execution_count": 124,
   "id": "819538b5-9786-4bbf-ba81-704c9acb9bcc",
   "metadata": {},
   "outputs": [
    {
     "data": {
      "text/plain": [
       "<MNEBrowseFigure size 958x1008 with 4 Axes>"
      ]
     },
     "execution_count": 124,
     "metadata": {},
     "output_type": "execute_result"
    }
   ],
   "source": [
    "epochs.plot()\n",
    "# Con el boton de abajo a la izq podemos activarlas o desactivarlas"
   ]
  },
  {
   "cell_type": "code",
   "execution_count": null,
   "id": "1d445e0c-58fb-48d1-b63a-92a0ec8174e6",
   "metadata": {},
   "outputs": [],
   "source": [
    "epochs_cleaned = epochs.copy().apply_proj()\n",
    "\n",
    "epochs_cleaned.plot_image()"
   ]
  },
  {
   "cell_type": "markdown",
   "id": "7a88121e-7063-49ea-bee4-6ace272f4cf9",
   "metadata": {},
   "source": [
    "## ICA (mayor uso en EEG), preparación previa\n",
    "\n",
    "First, start with the **raw data** again and apply a 1.0 Hz high-pass filter, which is advantegeous for ICA performance."
   ]
  },
  {
   "cell_type": "code",
   "execution_count": 215,
   "id": "f49de64b-7868-4076-a0f6-685ead0685cd",
   "metadata": {},
   "outputs": [
    {
     "name": "stdout",
     "output_type": "stream",
     "text": [
      "Reading in coordinate system frame CapTrak: None.\n",
      "The read in electrodes file is: \n",
      " [('name', ['Fp1', 'Fp2', 'C3', 'C4', 'P7', 'P8', 'O1', 'O2', 'Estimulo']), ('x', ['-0.028230102732777596', '0.028615690767765045', '-0.06266713887453079', '0.06430720537900925', '-0.06942592561244965', '0.07002179324626923', '-0.028190279379487038', '0.0286047775298357', 'n/a']), ('y', ['0.1022629365324974', '0.10319957137107849', '0.016059016808867455', '0.01671912893652916', '-0.047829363495111465', '-0.04744717478752136', '-0.08428219705820084', '-0.08399737626314163', 'n/a']), ('z', ['0.03173459693789482', '0.03159264102578163', '0.10678041726350784', '0.1060163676738739', '0.047329582273960114', '0.047286536544561386', '0.060965631157159805', '0.06092165783047676', 'n/a'])]\n"
     ]
    },
    {
     "name": "stderr",
     "output_type": "stream",
     "text": [
      "<ipython-input-215-45ed71fddc89>:10: RuntimeWarning: The unit for channel(s) Estimulo has changed from V to NA.\n",
      "  raw = mne_bids.read_raw_bids(bids_path)\n",
      "<ipython-input-215-45ed71fddc89>:10: RuntimeWarning: There are channels without locations (n/a) that are not marked as bad: ['Estimulo']\n",
      "  raw = mne_bids.read_raw_bids(bids_path)\n"
     ]
    },
    {
     "data": {
      "text/plain": [
       "<RawBrainVision | sub-01_ses-01_task-visual_run-01_eeg.eeg, 9 x 45265 (181.1 s), ~3.1 MB, data loaded>"
      ]
     },
     "execution_count": 215,
     "metadata": {},
     "output_type": "execute_result"
    }
   ],
   "source": [
    "bids_root = pathlib.Path('out_data/sample_BIDS')\n",
    "\n",
    "bids_path = mne_bids.BIDSPath(subject='01',\n",
    "                              session='01',\n",
    "                              task='visual',\n",
    "                              run='01',\n",
    "                              datatype='eeg',\n",
    "                              root=bids_root)\n",
    "\n",
    "raw = mne_bids.read_raw_bids(bids_path)\n",
    "raw.load_data()\n",
    "raw.filter(l_freq=1, h_freq=17)  # High-pass with 1. Hz cut-off is recommended for ICA"
   ]
  },
  {
   "cell_type": "markdown",
   "id": "e24a27f4-7014-43ac-bd37-b570b874547e",
   "metadata": {},
   "source": [
    "Hay que generar un nuevo conjunto de epochs 'epochs_ica' que seran las mismas que ya tenemos almacenadas.\n",
    "\n",
    "Pero lo que no podemos hacer es volver a aplicar otro filtro, ya que para ICA nos conviene 1HZ l_freq sobre las Epochs que ya tenemos, por lo que generamos a partir del raw data y los indices de las epochs buenas guardadas un nuevo conjunto 'epochs_ica'\n",
    "\n",
    "**Esto no es necesario si las epochs ya estan generadas con los filtros que se estan usando para el raw ahora**"
   ]
  },
  {
   "cell_type": "code",
   "execution_count": 216,
   "id": "ee2b66ab-ed0a-4bbc-8c64-36dc5024818a",
   "metadata": {},
   "outputs": [
    {
     "data": {
      "text/plain": [
       "(111,)"
      ]
     },
     "execution_count": 216,
     "metadata": {},
     "output_type": "execute_result"
    }
   ],
   "source": [
    "epochs = mne.read_epochs(pathlib.Path('out_data') / 'epochs_epo.fif')\n",
    "epochs_selection = epochs.selection\n",
    "epochs_selection.shape"
   ]
  },
  {
   "cell_type": "code",
   "execution_count": 217,
   "id": "00d36730-2ec8-4793-b113-afef6cc98a9d",
   "metadata": {},
   "outputs": [
    {
     "data": {
      "text/plain": [
       "<EpochsFIF |  111 events (all good), -0.3 - 0.6 sec, baseline [-0.3, 0] sec, ~1.7 MB, data loaded,\n",
       " 'NoTarget': 106\n",
       " 'Target': 5>"
      ]
     },
     "execution_count": 217,
     "metadata": {},
     "output_type": "execute_result"
    }
   ],
   "source": [
    "epochs\n",
    "# Ya esta (None, 0) en la baseline correction"
   ]
  },
  {
   "cell_type": "code",
   "execution_count": 218,
   "id": "ef2e17ee-ec03-403a-94c1-4357c94e14bc",
   "metadata": {},
   "outputs": [],
   "source": [
    "# Seleccionamos los eventos correspondientes a las epocas que NO hemos descartado\n",
    "events, events_id = mne.events_from_annotations(raw)\n",
    "events = events[epochs_selection]"
   ]
  },
  {
   "cell_type": "markdown",
   "id": "bdb1a5e3-104e-4e8e-bd04-09e8177bc4c1",
   "metadata": {},
   "source": [
    "Create epochs for ICA. All parameters should match **exactly** the ones of the epochs we intend to clean."
   ]
  },
  {
   "cell_type": "code",
   "execution_count": 219,
   "id": "f7bead93-6bee-4e87-a444-09614dcbf1e2",
   "metadata": {},
   "outputs": [],
   "source": [
    "# Usamos los valores de las Epochs que teniamos\n",
    "tmin = epochs.tmin\n",
    "tmax = epochs.tmax\n",
    "baseline = epochs.baseline\n",
    "\n",
    "epochs_ica = mne.Epochs(raw,\n",
    "                        events=events,\n",
    "                        event_id=events_id,\n",
    "                        tmin=tmin,\n",
    "                        tmax=tmax,\n",
    "                        baseline=baseline,\n",
    "                        preload=True)"
   ]
  },
  {
   "cell_type": "code",
   "execution_count": 220,
   "id": "cc0d0a36-839d-423d-be1b-9632d3a07fe9",
   "metadata": {},
   "outputs": [
    {
     "data": {
      "text/plain": [
       "<Info | 10 non-empty values\n",
       " bads: []\n",
       " ch_names: Fp1, Fp2, C3, C4, P7, P8, O1, O2, Estimulo\n",
       " chs: 8 EEG, 1 STIM\n",
       " custom_ref_applied: False\n",
       " dig: 8 items (8 EEG)\n",
       " highpass: 1.0 Hz\n",
       " line_freq: 50\n",
       " lowpass: 17.0 Hz\n",
       " meas_date: unspecified\n",
       " nchan: 9\n",
       " projs: []\n",
       " sfreq: 250.0 Hz\n",
       " subject_info: 4 items (dict)\n",
       ">"
      ]
     },
     "execution_count": 220,
     "metadata": {},
     "output_type": "execute_result"
    }
   ],
   "source": [
    "epochs_ica.info"
   ]
  },
  {
   "cell_type": "markdown",
   "id": "5df1e050-b8aa-4159-900f-36673cd84cc8",
   "metadata": {},
   "source": [
    "# Uso de ICA"
   ]
  },
  {
   "cell_type": "code",
   "execution_count": 221,
   "id": "352e9cda-eb8f-4908-833d-4efcd6ee90b0",
   "metadata": {},
   "outputs": [
    {
     "data": {
      "text/plain": [
       "<ICA | epochs decomposition, fit (picard): 25086 samples, 8 components, channels used: \"eeg\">"
      ]
     },
     "execution_count": 221,
     "metadata": {},
     "output_type": "execute_result"
    }
   ],
   "source": [
    "n_components = 0.999  # Should normally be higher, like 0.999!!\n",
    "method = 'picard'\n",
    "max_iter = 500  # Should normally be higher, like 500 or even 1000!!\n",
    "fit_params = dict(fastica_it=5)\n",
    "random_state = 42\n",
    "\n",
    "ica = mne.preprocessing.ICA(n_components=n_components,\n",
    "                            method=method,\n",
    "                            max_iter=max_iter,\n",
    "                            fit_params=fit_params,\n",
    "                            random_state=random_state)\n",
    "ica.fit(epochs_ica)"
   ]
  },
  {
   "cell_type": "code",
   "execution_count": 222,
   "id": "1e5f2d19-3bae-484f-bf67-523d56c71177",
   "metadata": {},
   "outputs": [
    {
     "data": {
      "text/plain": [
       "[<MNEFigure size 975x496 with 8 Axes>]"
      ]
     },
     "execution_count": 222,
     "metadata": {},
     "output_type": "execute_result"
    }
   ],
   "source": [
    "ica.plot_components(inst=epochs)"
   ]
  },
  {
   "cell_type": "markdown",
   "id": "e3c675af-b22f-46a7-9b67-b783faf4d7c9",
   "metadata": {},
   "source": [
    "# Usar artefactos para excluir componentes del ICA, en este caso del EOG"
   ]
  },
  {
   "cell_type": "code",
   "execution_count": 304,
   "id": "89651a11-7d95-4a53-b8be-838e6586f502",
   "metadata": {},
   "outputs": [],
   "source": [
    "eog_epochs = mne.preprocessing.create_eog_epochs(raw, reject=None, ch_name='O1',\n",
    "                                                 baseline=(None, -0.2),\n",
    "                                                 tmin=-0.5, tmax=0.5)"
   ]
  },
  {
   "cell_type": "code",
   "execution_count": 305,
   "id": "d739b8c6-3d2a-40d1-b731-f1819cea7707",
   "metadata": {},
   "outputs": [
    {
     "data": {
      "text/plain": [
       "<Epochs |  3 events (all good), -0.5 - 0.5 sec, baseline [-0.5, -0.2] sec, ~71 kB, data loaded,\n",
       " '998': 3>"
      ]
     },
     "execution_count": 305,
     "metadata": {},
     "output_type": "execute_result"
    }
   ],
   "source": [
    "eog_epochs"
   ]
  },
  {
   "cell_type": "code",
   "execution_count": 306,
   "id": "21a71716-92fe-481b-98ed-9f4f97c6c4f1",
   "metadata": {},
   "outputs": [],
   "source": [
    "eog_evoked = eog_epochs.average()"
   ]
  },
  {
   "cell_type": "code",
   "execution_count": 315,
   "id": "73efcc8a-a883-46de-8445-16fef7d239ea",
   "metadata": {},
   "outputs": [],
   "source": [
    "eog_inds, eog_scores = ica.find_bads_eog(eog_epochs, ch_name='O1')"
   ]
  },
  {
   "cell_type": "code",
   "execution_count": 316,
   "id": "e0ed1cd6-bb83-4189-a6d0-4138e4374511",
   "metadata": {},
   "outputs": [
    {
     "data": {
      "text/plain": [
       "array([ 0.46783591, -0.79542855,  0.14985238, -0.69866229,  0.49552845,\n",
       "       -0.53679008, -0.21090312,  0.49359835])"
      ]
     },
     "execution_count": 316,
     "metadata": {},
     "output_type": "execute_result"
    }
   ],
   "source": [
    "eog_inds\n",
    "eog_scores"
   ]
  },
  {
   "cell_type": "code",
   "execution_count": 309,
   "id": "834422e6-698e-4283-a795-f676a94e314c",
   "metadata": {},
   "outputs": [],
   "source": [
    "components_to_exclude = eog_inds\n",
    "ica.exclude = components_to_exclude"
   ]
  },
  {
   "cell_type": "code",
   "execution_count": 317,
   "id": "c8023519-69a0-40e2-9384-ecb459aad140",
   "metadata": {},
   "outputs": [
    {
     "data": {
      "text/plain": [
       "<Figure size 640x270 with 1 Axes>"
      ]
     },
     "execution_count": 317,
     "metadata": {},
     "output_type": "execute_result"
    }
   ],
   "source": [
    "ica.plot_scores(eog_scores)"
   ]
  },
  {
   "cell_type": "code",
   "execution_count": 318,
   "id": "98c63238-0b18-4d8e-b591-2b8617c40c6b",
   "metadata": {},
   "outputs": [
    {
     "data": {
      "text/plain": [
       "<Figure size 640x480 with 1 Axes>"
      ]
     },
     "execution_count": 318,
     "metadata": {},
     "output_type": "execute_result"
    }
   ],
   "source": [
    "ica.plot_sources(eog_evoked)"
   ]
  },
  {
   "cell_type": "code",
   "execution_count": 319,
   "id": "e395e81f-cb39-4b0e-9de6-b05129a3e9c1",
   "metadata": {},
   "outputs": [
    {
     "data": {
      "text/plain": [
       "<Figure size 640x480 with 1 Axes>"
      ]
     },
     "execution_count": 319,
     "metadata": {},
     "output_type": "execute_result"
    }
   ],
   "source": [
    "ica.plot_overlay(eog_evoked)\n",
    "# Rojo-antes negro-despues"
   ]
  },
  {
   "cell_type": "markdown",
   "id": "7bb200a5-d35a-479b-93d6-8dd1a50c093d",
   "metadata": {},
   "source": [
    "Una vez que tenemos las zonas a excluir, lo hacemos sobre nuestro conjuntos de Epochs **original** y no sobre el creado para realizar ICA"
   ]
  },
  {
   "cell_type": "code",
   "execution_count": 322,
   "id": "3319a0e5-59ca-4160-a00d-61c41f5f0cdb",
   "metadata": {},
   "outputs": [],
   "source": [
    "epochs_cleaned = ica.apply(epochs.copy())"
   ]
  },
  {
   "cell_type": "code",
   "execution_count": 325,
   "id": "2e75f04d-5cd5-4696-8da1-4d790fbc70d4",
   "metadata": {},
   "outputs": [
    {
     "data": {
      "text/plain": [
       "<MNEBrowseFigure size 958x1008 with 4 Axes>"
      ]
     },
     "execution_count": 325,
     "metadata": {},
     "output_type": "execute_result"
    }
   ],
   "source": [
    "epochs_cleaned.plot()"
   ]
  },
  {
   "cell_type": "code",
   "execution_count": 324,
   "id": "6a480870-a791-48f1-ac2d-f2aa628851ae",
   "metadata": {},
   "outputs": [
    {
     "data": {
      "text/plain": [
       "<MNEBrowseFigure size 958x1008 with 4 Axes>"
      ]
     },
     "execution_count": 324,
     "metadata": {},
     "output_type": "execute_result"
    }
   ],
   "source": [
    "epochs.plot(title='before')"
   ]
  },
  {
   "cell_type": "markdown",
   "id": "9b7f5e44-6057-4a16-beec-c09d6ba0ee31",
   "metadata": {},
   "source": [
    "# Analisis de las Epochs (Aritmetica, ML)"
   ]
  },
  {
   "cell_type": "code",
   "execution_count": 1,
   "id": "dd85c247-f0a5-4625-abc0-1594e57267d7",
   "metadata": {},
   "outputs": [],
   "source": [
    "%matplotlib qt\n",
    "import pathlib\n",
    "import matplotlib\n",
    "import matplotlib.pyplot as plt\n",
    "import mne\n",
    "\n",
    "matplotlib.use('Qt5Agg')\n",
    "mne.set_log_level('warning')"
   ]
  },
  {
   "cell_type": "code",
   "execution_count": 63,
   "id": "8dc15d84-f252-486d-9e5d-18aadf965d3c",
   "metadata": {},
   "outputs": [
    {
     "data": {
      "text/plain": [
       "<EpochsFIF |  111 events (all good), -0.3 - 0.6 sec, baseline [-0.3, 0] sec, ~1.7 MB, data loaded,\n",
       " 'NoTarget': 106\n",
       " 'Target': 5>"
      ]
     },
     "execution_count": 63,
     "metadata": {},
     "output_type": "execute_result"
    }
   ],
   "source": [
    "epochs = mne.read_epochs(pathlib.Path('out_data') / 'epochs_epo.fif')\n",
    "epochs.apply_baseline((None, 0))\n",
    "epochs"
   ]
  },
  {
   "cell_type": "code",
   "execution_count": 64,
   "id": "b3a80c94-7b4d-4dcb-b9a7-3197f8a502ba",
   "metadata": {},
   "outputs": [
    {
     "data": {
      "text/plain": [
       "<EpochsFIF |  111 events (all good), -0.3 - 0.6 sec, baseline [-0.3, 0] sec, ~1.7 MB, data loaded,\n",
       " 'NoTarget': 106\n",
       " 'Target': 5>"
      ]
     },
     "execution_count": 64,
     "metadata": {},
     "output_type": "execute_result"
    }
   ],
   "source": [
    "# Nos quedamos con las epocas de interes a comparar, en nuestro caso son todas\n",
    "# ya que solo tenemos los eventos Target y NoTarget\n",
    "epochs_auditory = epochs\n",
    "epochs_auditory"
   ]
  },
  {
   "cell_type": "code",
   "execution_count": 18,
   "id": "5e8a5c48-9f03-466a-a11d-7fd5cd1c4d1d",
   "metadata": {},
   "outputs": [
    {
     "data": {
      "text/plain": [
       "[<Figure size 800x600 with 1 Axes>]"
      ]
     },
     "execution_count": 18,
     "metadata": {},
     "output_type": "execute_result"
    }
   ],
   "source": [
    "# De forma aritmetica podemos comparar las diferencias de uV de los ERP\n",
    "evoked_diff = mne.combine_evoked(\n",
    "    [epochs_auditory['NoTarget'].average(),\n",
    "     epochs_auditory['Target'].average()],\n",
    "    weights=[1, -1]  # Subtraction\n",
    ")\n",
    "\n",
    "evoked_diff.plot(gfp=True)\n",
    "\n",
    "mne.viz.plot_compare_evokeds(\n",
    "    [epochs_auditory['NoTarget'].average(),\n",
    "     epochs_auditory['Target'].average(),\n",
    "     evoked_diff],\n",
    "    \n",
    ")"
   ]
  },
  {
   "cell_type": "markdown",
   "id": "f338fd40-9596-4949-9313-ae70df4f4223",
   "metadata": {},
   "source": [
    "# Ahora con ML"
   ]
  },
  {
   "cell_type": "code",
   "execution_count": 22,
   "id": "325465b6-1248-487d-a79a-16cdaf3541e2",
   "metadata": {
    "tags": []
   },
   "outputs": [
    {
     "data": {
      "text/plain": [
       "<EpochsFIF |  10 events (all good), -0.3 - 0.6 sec, baseline [-0.3, 0] sec, ~178 kB, data loaded,\n",
       " 'NoTarget': 5\n",
       " 'Target': 5>"
      ]
     },
     "execution_count": 22,
     "metadata": {},
     "output_type": "execute_result"
    }
   ],
   "source": [
    "# To keep chance level at 50% accuracy\n",
    "    # we first equalize the number of epochs in each condition.\n",
    "epochs_auditory.equalize_event_counts(epochs_auditory.event_id)\n",
    "epochs_auditory\n",
    "# OJO, en este ejemplo no lo hago ya que solo tenemos 5 eventos Target"
   ]
  },
  {
   "cell_type": "markdown",
   "id": "a9ddd2a2-0b22-404b-8e10-24ec84dbe89b",
   "metadata": {},
   "source": [
    "# Preparamos y escalamos los datos a mano\n",
    "\n",
    "Mas adelante se usara una libreria de mne para facilitar esta tarea"
   ]
  },
  {
   "cell_type": "code",
   "execution_count": 66,
   "id": "d039baac-85df-4b1c-af5d-219e36067750",
   "metadata": {},
   "outputs": [
    {
     "data": {
      "text/plain": [
       "array([ True,  True,  True,  True,  True,  True,  True,  True,  True,\n",
       "        True,  True,  True,  True,  True, False,  True,  True,  True,\n",
       "        True,  True,  True,  True,  True,  True,  True,  True,  True,\n",
       "        True,  True,  True,  True,  True,  True,  True, False,  True,\n",
       "        True,  True,  True,  True,  True,  True,  True,  True,  True,\n",
       "       False,  True,  True,  True,  True,  True,  True,  True,  True,\n",
       "        True,  True,  True,  True,  True,  True,  True,  True,  True,\n",
       "        True,  True,  True,  True,  True,  True,  True,  True,  True,\n",
       "        True,  True,  True,  True,  True, False,  True,  True,  True,\n",
       "        True,  True,  True,  True,  True,  True,  True,  True,  True,\n",
       "        True,  True,  True,  True,  True,  True,  True, False,  True,\n",
       "        True,  True,  True,  True,  True,  True,  True,  True,  True,\n",
       "        True,  True,  True])"
      ]
     },
     "execution_count": 66,
     "metadata": {},
     "output_type": "execute_result"
    }
   ],
   "source": [
    "import numpy as np\n",
    "\n",
    "# Create an vector with length = no. of trials.\n",
    "y = np.empty(len(epochs_auditory.events), dtype=int)  \n",
    "\n",
    "# Which trials are LEFT, which are RIGHT?\n",
    "idx_left = epochs_auditory.events[:, 2] == epochs_auditory.event_id['NoTarget']\n",
    "idx_right = epochs_auditory.events[:, 2] == epochs_auditory.event_id['Target']\n",
    "\n",
    "idx_left"
   ]
  },
  {
   "cell_type": "code",
   "execution_count": 67,
   "id": "ee5dd30f-87ab-478f-bb08-5d9cff5c535b",
   "metadata": {},
   "outputs": [
    {
     "name": "stdout",
     "output_type": "stream",
     "text": [
      "[0 0 0 0 0 0 0 0 0 0 0 0 0 0 1 0 0 0 0 0 0 0 0 0 0 0 0 0 0 0 0 0 0 0 1 0 0\n",
      " 0 0 0 0 0 0 0 0 1 0 0 0 0 0 0 0 0 0 0 0 0 0 0 0 0 0 0 0 0 0 0 0 0 0 0 0 0\n",
      " 0 0 0 1 0 0 0 0 0 0 0 0 0 0 0 0 0 0 0 0 0 0 0 1 0 0 0 0 0 0 0 0 0 0 0 0 0]\n",
      "\n",
      "Size of y: 111\n"
     ]
    }
   ],
   "source": [
    "# Encode: NoTarget = 0, Target = 1.\n",
    "y[idx_left] = 0\n",
    "y[idx_right] = 1\n",
    "\n",
    "print(y)\n",
    "print(f'\\nSize of y: {y.size}')"
   ]
  },
  {
   "cell_type": "code",
   "execution_count": 68,
   "id": "d56ae4d0-f46a-4657-8eda-6dc8f806e00f",
   "metadata": {},
   "outputs": [
    {
     "name": "stdout",
     "output_type": "stream",
     "text": [
      "(111, 8, 226)\n"
     ]
    }
   ],
   "source": [
    "# for EEG channels:\n",
    "epochs_auditory_grad = epochs_auditory.copy().pick_types(meg=False, eeg=True)\n",
    "\n",
    "# Retrieve the data as a NumPy array.\n",
    "# The array has the shape: (n_trials, n_channels, n_timepoints)\n",
    "data = epochs_auditory_grad.get_data()\n",
    "print(data.shape)"
   ]
  },
  {
   "cell_type": "code",
   "execution_count": 69,
   "id": "91058ee4-a320-41ae-bf66-30f488bf778e",
   "metadata": {},
   "outputs": [
    {
     "name": "stdout",
     "output_type": "stream",
     "text": [
      "(111, 1808)\n"
     ]
    }
   ],
   "source": [
    "# reshape X to the dimension (n_trials, n_channels * n_timepoints)\n",
    "n_trials = data.shape[0]\n",
    "\n",
    "X = data.reshape(n_trials, -1)\n",
    "print(X.shape)"
   ]
  },
  {
   "cell_type": "markdown",
   "id": "86093877-95b6-4807-9403-22d636be89f4",
   "metadata": {},
   "source": [
    "# Creamos el clasificador con sklearn"
   ]
  },
  {
   "cell_type": "code",
   "execution_count": 76,
   "id": "abac1c7d-8b3c-499a-b774-f4951d6f1a65",
   "metadata": {},
   "outputs": [
    {
     "name": "stdout",
     "output_type": "stream",
     "text": [
      "CV scores: [1.         0.9047619  1.         0.71428571 0.23809524]\n",
      "Mean ROC AUC = 0.771 (SD = 0.286)\n"
     ]
    }
   ],
   "source": [
    "from sklearn.model_selection import StratifiedKFold, cross_val_score\n",
    "from sklearn.linear_model import LogisticRegression\n",
    "from sklearn.preprocessing import StandardScaler\n",
    "from sklearn.pipeline import make_pipeline\n",
    "\n",
    "\n",
    "# The classifier pipeline: it is extremely important to SCALE THE DATA\n",
    "# before running the actual classifier (logistic regression in our case).\n",
    "clf = make_pipeline(StandardScaler(), LogisticRegression())\n",
    "\n",
    "# Run cross-validation.\n",
    "# CV without shuffling – \"block cross-validation\" – is what we want here\n",
    "# (scikit-learn doesn't shuffle by default, which is good for us).\n",
    "n_splits = 5\n",
    "scoring = 'roc_auc' # area under the curve\n",
    "cv = StratifiedKFold(n_splits=n_splits)\n",
    "scores = cross_val_score(clf, X=X, y=y, cv=cv, scoring=scoring)\n",
    "\n",
    "# Mean and standard deviation of ROC AUC across cross-validation runs.\n",
    "roc_auc_mean = round(np.mean(scores), 3)\n",
    "roc_auc_std = round(np.std(scores), 3)\n",
    "\n",
    "print(f'CV scores: {scores}')\n",
    "print(f'Mean ROC AUC = {roc_auc_mean:.3f} (SD = {roc_auc_std:.3f})')"
   ]
  },
  {
   "cell_type": "code",
   "execution_count": 77,
   "id": "1ed1355b-3c63-4e81-b63d-5c46e1b8b23e",
   "metadata": {},
   "outputs": [
    {
     "data": {
      "text/plain": [
       "Text(0.5, 1.0, 'Cross-Validation Scores')"
      ]
     },
     "execution_count": 77,
     "metadata": {},
     "output_type": "execute_result"
    }
   ],
   "source": [
    "fig, ax = plt.subplots()\n",
    "ax.boxplot(scores,\n",
    "           showmeans=True, # Green triangle marks the mean.\n",
    "           whis=(0, 100),  # Whiskers span the entire range of the data.\n",
    "           labels=['NoTarget vs Target'])\n",
    "ax.set_ylabel('Score')\n",
    "ax.set_title('Cross-Validation Scores')"
   ]
  },
  {
   "cell_type": "markdown",
   "id": "95f61510-1f2a-460f-9cbb-437825dafa0b",
   "metadata": {},
   "source": [
    "# Ahora con `mne.decoding`\n",
    "\n",
    "De esta forma la preparacion de los datos es mucho mas sencilla"
   ]
  },
  {
   "cell_type": "code",
   "execution_count": 98,
   "id": "30433090-d539-477a-b01d-bb5699ac5e49",
   "metadata": {},
   "outputs": [
    {
     "name": "stdout",
     "output_type": "stream",
     "text": [
      "CV scores: [1.         0.76190476 1.         0.61904762 0.19047619]\n",
      "Mean ROC AUC = 0.714 (SD = 0.300)\n"
     ]
    }
   ],
   "source": [
    "from sklearn.pipeline import make_pipeline\n",
    "from mne.decoding import Scaler, Vectorizer, cross_val_multiscore\n",
    "\n",
    "# First, create X and y.\n",
    "epochs_auditory_grad = epochs_auditory.copy().pick_types(meg=False, eeg=True)\n",
    "X = epochs_auditory_grad.get_data()\n",
    "y = epochs_auditory_grad.events[:, 2]\n",
    "\n",
    "# Classifier pipeline.\n",
    "clf = make_pipeline(\n",
    "    # An MNE scaler that correctly handles different channel types –\n",
    "    # isn't that great?!\n",
    "    Scaler(epochs_auditory_grad.info),\n",
    "    # Remember this annoying and error-prone NumPy array reshaping we had to do\n",
    "    # earlier? Not anymore, thanks to the MNE vectorizer!\n",
    "    Vectorizer(),\n",
    "    # And, finally, the actual classifier.\n",
    "    LogisticRegression(max_iter=500))\n",
    "\n",
    "# Run cross-validation.\n",
    "# Note that we're using MNE's cross_val_multiscore() here, not scikit-learn's\n",
    "# cross_val_score() as above. We simply pass the number of desired CV splits,\n",
    "# and MNE will automatically do the rest for us.\n",
    "cv = 5\n",
    "scoring = 'roc_auc'\n",
    "scores = cross_val_multiscore(clf, X, y, cv=cv, scoring='roc_auc')\n",
    "\n",
    "# Mean and standard deviation of ROC AUC across cross-validation runs.\n",
    "roc_auc_mean = round(np.mean(scores), 3)\n",
    "roc_auc_std = round(np.std(scores), 3)\n",
    "\n",
    "print(f'CV scores: {scores}')\n",
    "print(f'Mean ROC AUC = {roc_auc_mean:.3f} (SD = {roc_auc_std:.3f})')"
   ]
  },
  {
   "cell_type": "markdown",
   "id": "189d284d-5b5c-48ff-b760-88ea41e28114",
   "metadata": {},
   "source": [
    "# En lugar de las Epochs tambien podemos hacer estudios punto por punto"
   ]
  },
  {
   "cell_type": "markdown",
   "id": "8b514785-3044-4d9e-9563-8a69d05a4492",
   "metadata": {},
   "source": [
    "In the previous examples, we have trained a classifier to discriminate between experimental conditions by using the spatio-temporal patterns of **entire trials**. Consequently, the classifier was (hopefully!) able to predict which activation patterns belonged to which condition. \n",
    "\n",
    "However, an interesting neuroscientific is: **Exactly *when* do the brain signals for two conditions differ?**\n",
    "\n",
    "We can try to answer this question by fitting a classifier **at every single time point.** If the classifier can successfully discriminate between the two conditions, we can conclude that the spatial activation patterns measured by the MEG or EEG sensors differed **at this very time point**."
   ]
  },
  {
   "cell_type": "code",
   "execution_count": 102,
   "id": "19e9334b-7564-4cb5-a171-394facb48f6e",
   "metadata": {},
   "outputs": [
    {
     "data": {
      "application/vnd.jupyter.widget-view+json": {
       "model_id": "5be34eaf89bd4ef69ba28a0f7ca0a672",
       "version_major": 2,
       "version_minor": 0
      },
      "text/plain": [
       "HBox(children=(FloatProgress(value=0.0, description='Fitting SlidingEstimator', max=226.0, style=ProgressStyle…"
      ]
     },
     "metadata": {},
     "output_type": "display_data"
    },
    {
     "name": "stdout",
     "output_type": "stream",
     "text": [
      "\n"
     ]
    },
    {
     "data": {
      "application/vnd.jupyter.widget-view+json": {
       "model_id": "6bbeefad8f9b47b290642b466dd68b65",
       "version_major": 2,
       "version_minor": 0
      },
      "text/plain": [
       "HBox(children=(FloatProgress(value=0.0, description='Fitting SlidingEstimator', max=226.0, style=ProgressStyle…"
      ]
     },
     "metadata": {},
     "output_type": "display_data"
    },
    {
     "name": "stdout",
     "output_type": "stream",
     "text": [
      "\n"
     ]
    },
    {
     "data": {
      "application/vnd.jupyter.widget-view+json": {
       "model_id": "d1fb7d488fc14dc58c3e4bb9dfcc4128",
       "version_major": 2,
       "version_minor": 0
      },
      "text/plain": [
       "HBox(children=(FloatProgress(value=0.0, description='Fitting SlidingEstimator', max=226.0, style=ProgressStyle…"
      ]
     },
     "metadata": {},
     "output_type": "display_data"
    },
    {
     "name": "stdout",
     "output_type": "stream",
     "text": [
      "\n"
     ]
    },
    {
     "data": {
      "application/vnd.jupyter.widget-view+json": {
       "model_id": "e4f3608c609e475e9563cbdbf3114d24",
       "version_major": 2,
       "version_minor": 0
      },
      "text/plain": [
       "HBox(children=(FloatProgress(value=0.0, description='Fitting SlidingEstimator', max=226.0, style=ProgressStyle…"
      ]
     },
     "metadata": {},
     "output_type": "display_data"
    },
    {
     "name": "stdout",
     "output_type": "stream",
     "text": [
      "\n"
     ]
    },
    {
     "data": {
      "application/vnd.jupyter.widget-view+json": {
       "model_id": "905b6a50749d47b7a956fcf95eac2546",
       "version_major": 2,
       "version_minor": 0
      },
      "text/plain": [
       "HBox(children=(FloatProgress(value=0.0, description='Fitting SlidingEstimator', max=226.0, style=ProgressStyle…"
      ]
     },
     "metadata": {},
     "output_type": "display_data"
    },
    {
     "name": "stdout",
     "output_type": "stream",
     "text": [
      "\n",
      "\n",
      "=> Mean CV score across all time points: 0.642\n"
     ]
    }
   ],
   "source": [
    "from sklearn.preprocessing import StandardScaler\n",
    "from mne.decoding import SlidingEstimator\n",
    "\n",
    "# First, create X and y.\n",
    "epochs_auditory_grad = epochs_auditory.copy().pick_types(meg=False, eeg=True)\n",
    "X = epochs_auditory_grad.get_data()\n",
    "y = epochs_auditory_grad.events[:, 2]\n",
    "\n",
    "# Classifier pipeline. No need for vectorization as in the previous example.\n",
    "clf = make_pipeline(StandardScaler(),\n",
    "                    LogisticRegression())\n",
    "\n",
    "# The \"sliding estimator\" will train the classifier at each time point.\n",
    "scoring = 'roc_auc'\n",
    "time_decoder = SlidingEstimator(clf, scoring=scoring, n_jobs=1, verbose=True)\n",
    "\n",
    "# Run cross-validation.\n",
    "n_splits = 5\n",
    "scores = cross_val_multiscore(time_decoder, X, y, cv=n_splits, n_jobs=1)\n",
    "\n",
    "# Mean scores across cross-validation splits, for each time point.\n",
    "mean_scores = np.mean(scores, axis=0)\n",
    "\n",
    "# Mean score across all time points.\n",
    "mean_across_all_times = round(np.mean(scores), 3)\n",
    "print(f'\\n=> Mean CV score across all time points: {mean_across_all_times:.3f}')"
   ]
  },
  {
   "cell_type": "code",
   "execution_count": 106,
   "id": "2db0c605-93ba-4f59-9871-12c3c1fa8c3c",
   "metadata": {},
   "outputs": [
    {
     "data": {
      "text/plain": [
       "Text(0.5, 0.98, 'Sensor Space Decoding')"
      ]
     },
     "execution_count": 106,
     "metadata": {},
     "output_type": "execute_result"
    }
   ],
   "source": [
    "fig, ax = plt.subplots()\n",
    "\n",
    "ax.axhline(0.5, color='k', linestyle='--', label='chance')  # AUC = 0.5\n",
    "ax.axvline(0, color='k', linestyle='-')  # Mark time point zero.\n",
    "ax.plot(epochs.times, mean_scores, label='score')\n",
    "\n",
    "ax.set_xlabel('Time (s)')\n",
    "ax.set_ylabel('Mean ROC AUC')\n",
    "ax.legend()\n",
    "ax.set_title('Left vs Right')\n",
    "fig.suptitle('Sensor Space Decoding')\n",
    "\n",
    "# Aunque la media a lo largo de todo el tiempo es de 0.624, observando la grafica se ve\n",
    "# como en las regiones cercanas al instante 0 y los momentos posteriores la precision\n",
    "# aumenta considerablemente"
   ]
  },
  {
   "cell_type": "markdown",
   "id": "4ec24f5f-5705-49f4-bb75-d67af3f83975",
   "metadata": {},
   "source": [
    "# Analisis de la frecuencia y f-t al mismo tiempo"
   ]
  },
  {
   "cell_type": "code",
   "execution_count": 107,
   "id": "b999503e-5983-4cf1-93a5-b29eb3be6d24",
   "metadata": {},
   "outputs": [],
   "source": [
    "import pathlib\n",
    "import matplotlib\n",
    "\n",
    "import mne\n",
    "import mne_bids\n",
    "\n",
    "matplotlib.use('Qt5Agg')\n",
    "mne.set_log_level('warning')"
   ]
  },
  {
   "cell_type": "code",
   "execution_count": 110,
   "id": "3a7207d5-f7da-4996-8495-3a60ed084d61",
   "metadata": {},
   "outputs": [
    {
     "data": {
      "text/plain": [
       "<Info | 12 non-empty values\n",
       " bads: []\n",
       " ch_names: Fp1, Fp2, C3, C4, P7, P8, O1, O2, Estimulo\n",
       " chs: 8 EEG, 1 STIM\n",
       " custom_ref_applied: False\n",
       " dig: 8 items (8 EEG)\n",
       " file_id: 4 items (dict)\n",
       " highpass: 1.0 Hz\n",
       " line_freq: 50.0\n",
       " lowpass: 17.0 Hz\n",
       " meas_date: unspecified\n",
       " meas_id: 4 items (dict)\n",
       " nchan: 9\n",
       " projs: []\n",
       " sfreq: 250.0 Hz\n",
       " subject_info: 3 items (dict)\n",
       ">"
      ]
     },
     "execution_count": 110,
     "metadata": {},
     "output_type": "execute_result"
    }
   ],
   "source": [
    "epochs = mne.read_epochs(pathlib.Path('out_data') / 'epochs_epo.fif')\n",
    "epochs.info"
   ]
  },
  {
   "cell_type": "code",
   "execution_count": 109,
   "id": "45423b89-5bd5-4c8d-be4f-8b8449896e07",
   "metadata": {},
   "outputs": [],
   "source": [
    "epochs.apply_proj()\n",
    "epochs_auditory = epochs"
   ]
  },
  {
   "cell_type": "code",
   "execution_count": 111,
   "id": "cbf39da0-a595-4ee3-a85f-5d85c4561182",
   "metadata": {},
   "outputs": [
    {
     "data": {
      "image/png": "[encoded data removed]",
      "text/plain": [
       "<MNELineFigure size 1000x350 with 1 Axes>"
      ]
     },
     "execution_count": 111,
     "metadata": {},
     "output_type": "execute_result"
    }
   ],
   "source": [
    "epochs_auditory.plot_psd(fmin=2., fmax=40., average=True, bandwidth=2)"
   ]
  },
  {
   "cell_type": "code",
   "execution_count": 115,
   "id": "5a0c0f76-7f31-4220-802f-10282d6d5f48",
   "metadata": {},
   "outputs": [
    {
     "data": {
      "image/png": "[encoded data removed]",
      "text/plain": [
       "<Figure size 1000x150 with 10 Axes>"
      ]
     },
     "execution_count": 115,
     "metadata": {},
     "output_type": "execute_result"
    }
   ],
   "source": [
    "epochs_auditory.plot_psd_topomap(ch_type='eeg', normalize=False)"
   ]
  },
  {
   "cell_type": "markdown",
   "id": "9455c382-0753-4a25-9015-f63431320a60",
   "metadata": {},
   "source": [
    "## Time-frequency analysis: power and inter-trial coherence\n",
    "\n",
    "We now compute time-frequency representations (TFRs) from our Epochs.\n",
    "We'll look at power and inter-trial coherence (ITC).\n",
    "\n",
    "To this we'll use the function `mne.time_frequency.tfr_morlet`\n",
    "but you can also use `mne.time_frequency.tfr_multitaper`\n",
    "or `mne.time_frequency.tfr_stockwell`."
   ]
  },
  {
   "cell_type": "code",
   "execution_count": 118,
   "id": "a543bec1-2aa4-49fd-9bf0-c381da9032df",
   "metadata": {},
   "outputs": [
    {
     "data": {
      "text/plain": [
       "array([ 2.        ,  2.30637295,  2.65967809,  3.0671048 ,  3.53694377,\n",
       "        4.07875572,  4.70356592,  5.4240886 ,  6.25498562,  7.21316481,\n",
       "        8.3181241 ,  9.5923482 , 11.0617662 , 12.75627917, 14.7103686 ,\n",
       "       16.9637981 , 19.56242252, 22.55912106, 26.01487328, 30.        ])"
      ]
     },
     "execution_count": 118,
     "metadata": {},
     "output_type": "execute_result"
    }
   ],
   "source": [
    "import numpy as np\n",
    "\n",
    "# define frequencies of interest (log-spaced)\n",
    "freqs = np.logspace(*np.log10([2, 30]), num=20)\n",
    "freqs"
   ]
  },
  {
   "cell_type": "code",
   "execution_count": 120,
   "id": "bce5a662-508d-461b-8fde-a80ae6244431",
   "metadata": {},
   "outputs": [],
   "source": [
    "n_cycles = freqs / 2.  # different number of cycle per frequency\n",
    "power, itc = mne.time_frequency.tfr_morlet(epochs_auditory, freqs=freqs, \n",
    "                                           n_cycles=n_cycles, use_fft=True,\n",
    "                                           return_itc=True, decim=2, n_jobs=2)"
   ]
  },
  {
   "cell_type": "code",
   "execution_count": 122,
   "id": "ed31d311-0bbc-4700-81a2-dff3c6c79ba2",
   "metadata": {},
   "outputs": [
    {
     "data": {
      "text/plain": [
       "<AverageTFR | time : [-0.100000, 0.556000], freq : [2.000000, 30.000000], nave : 111, channels : 8, ~122 kB>"
      ]
     },
     "execution_count": 122,
     "metadata": {},
     "output_type": "execute_result"
    }
   ],
   "source": [
    "power.crop(-0.1, 0.55)  # crop to remove edge artifacts"
   ]
  },
  {
   "cell_type": "code",
   "execution_count": 123,
   "id": "037abb55-2843-44e7-9859-96e77fffd8fa",
   "metadata": {},
   "outputs": [
    {
     "data": {
      "text/plain": [
       "<AverageTFR | time : [-0.100000, 0.556000], freq : [2.000000, 30.000000], nave : 111, channels : 8, ~122 kB>"
      ]
     },
     "execution_count": 123,
     "metadata": {},
     "output_type": "execute_result"
    }
   ],
   "source": [
    "itc.crop(-0.1, 0.55)  # crop to remove edge artifacts"
   ]
  },
  {
   "cell_type": "code",
   "execution_count": 124,
   "id": "12b2eeaf-807e-44f3-80f7-95d731f6e94e",
   "metadata": {},
   "outputs": [],
   "source": [
    "baseline_mode = 'logratio'\n",
    "baseline = (None, 0)"
   ]
  },
  {
   "cell_type": "code",
   "execution_count": 133,
   "id": "7308e77f-cf4b-49d4-b260-9dc9fac3e29f",
   "metadata": {},
   "outputs": [
    {
     "data": {
      "image/png": "[encoded data removed]",
      "text/plain": [
       "<Figure size 640x480 with 2 Axes>"
      ]
     },
     "execution_count": 133,
     "metadata": {},
     "output_type": "execute_result"
    },
    {
     "name": "stderr",
     "output_type": "stream",
     "text": [
      "c:\\users\\usuario\\appdata\\local\\programs\\python\\python37\\lib\\site-packages\\matplotlib\\cbook\\__init__.py:270: RuntimeWarning: `mask` is None, not masking the plot ...\n",
      "  func(*args, **kwargs)\n",
      "c:\\users\\usuario\\appdata\\local\\programs\\python\\python37\\lib\\site-packages\\matplotlib\\cbook\\__init__.py:270: RuntimeWarning: `mask` is None, not adding contour to the plot ...\n",
      "  func(*args, **kwargs)\n"
     ]
    }
   ],
   "source": [
    "(power.copy()\n",
    " .pick_types(eeg=True, meg=False)\n",
    " .plot_topo())"
   ]
  },
  {
   "cell_type": "code",
   "execution_count": 148,
   "id": "f6c637ce-bd3c-47d6-9adb-ce7bba50c6bd",
   "metadata": {},
   "outputs": [
    {
     "data": {
      "image/png": "[encoded data removed]",
      "text/plain": [
       "<Figure size 640x480 with 2 Axes>"
      ]
     },
     "execution_count": 148,
     "metadata": {},
     "output_type": "execute_result"
    }
   ],
   "source": [
    "power.plot(picks='O1', baseline=baseline, mode=baseline_mode)"
   ]
  },
  {
   "cell_type": "code",
   "execution_count": 128,
   "id": "83d07810-d2f1-4c5c-ab85-08f8683c2dab",
   "metadata": {},
   "outputs": [],
   "source": [
    "import matplotlib.pyplot as plt\n",
    "\n",
    "fig, axis = plt.subplots(1, 3, figsize=(7, 4))\n",
    "power.plot_topomap(ch_type='eeg', tmin=0.5, tmax=1.5, fmin=4, fmax=7,\n",
    "                   baseline=baseline, mode=baseline_mode, axes=axis[0],\n",
    "                   title='Theta', show=False, contours=1)\n",
    "power.plot_topomap(ch_type='eeg', tmin=0.5, tmax=1.5, fmin=8, fmax=12,\n",
    "                   baseline=baseline, mode=baseline_mode, axes=axis[1],\n",
    "                   title='Alpha', show=False, contours=1)\n",
    "power.plot_topomap(ch_type='eeg', tmin=0.5, tmax=1.5, fmin=15, fmax=30,\n",
    "                   baseline=baseline, mode=baseline_mode, axes=axis[2],\n",
    "                   title='Beta', show=False, contours=1)\n",
    "mne.viz.tight_layout()\n",
    "plt.show()"
   ]
  },
  {
   "cell_type": "code",
   "execution_count": 151,
   "id": "d6ff47a4-d357-4119-9dac-d2d13addeb30",
   "metadata": {},
   "outputs": [],
   "source": [
    "power.plot_joint(baseline=baseline, mode='mean', tmin=None, tmax=None,\n",
    "                 timefreqs=[(0., 2.), (0.2, 4.)])\n",
    "plt.show()"
   ]
  },
  {
   "cell_type": "code",
   "execution_count": 152,
   "id": "d9d6ed6b-db5f-4a1d-9d25-a3237b5d8ad7",
   "metadata": {},
   "outputs": [
    {
     "data": {
      "image/png": "[encoded data removed]",
      "text/plain": [
       "<Figure size 640x480 with 2 Axes>"
      ]
     },
     "execution_count": 152,
     "metadata": {},
     "output_type": "execute_result"
    },
    {
     "name": "stderr",
     "output_type": "stream",
     "text": [
      "c:\\users\\usuario\\appdata\\local\\programs\\python\\python37\\lib\\site-packages\\matplotlib\\cbook\\__init__.py:270: RuntimeWarning: `mask` is None, not masking the plot ...\n",
      "  func(*args, **kwargs)\n",
      "c:\\users\\usuario\\appdata\\local\\programs\\python\\python37\\lib\\site-packages\\matplotlib\\cbook\\__init__.py:270: RuntimeWarning: `mask` is None, not adding contour to the plot ...\n",
      "  func(*args, **kwargs)\n",
      "c:\\users\\usuario\\appdata\\local\\programs\\python\\python37\\lib\\site-packages\\matplotlib\\cbook\\__init__.py:270: RuntimeWarning: `mask` is None, not masking the plot ...\n",
      "  func(*args, **kwargs)\n",
      "c:\\users\\usuario\\appdata\\local\\programs\\python\\python37\\lib\\site-packages\\matplotlib\\cbook\\__init__.py:270: RuntimeWarning: `mask` is None, not adding contour to the plot ...\n",
      "  func(*args, **kwargs)\n",
      "c:\\users\\usuario\\appdata\\local\\programs\\python\\python37\\lib\\site-packages\\matplotlib\\cbook\\__init__.py:270: RuntimeWarning: `mask` is None, not masking the plot ...\n",
      "  func(*args, **kwargs)\n",
      "c:\\users\\usuario\\appdata\\local\\programs\\python\\python37\\lib\\site-packages\\matplotlib\\cbook\\__init__.py:270: RuntimeWarning: `mask` is None, not adding contour to the plot ...\n",
      "  func(*args, **kwargs)\n",
      "c:\\users\\usuario\\appdata\\local\\programs\\python\\python37\\lib\\site-packages\\matplotlib\\cbook\\__init__.py:270: RuntimeWarning: `mask` is None, not masking the plot ...\n",
      "  func(*args, **kwargs)\n",
      "c:\\users\\usuario\\appdata\\local\\programs\\python\\python37\\lib\\site-packages\\matplotlib\\cbook\\__init__.py:270: RuntimeWarning: `mask` is None, not adding contour to the plot ...\n",
      "  func(*args, **kwargs)\n"
     ]
    }
   ],
   "source": [
    "itc.plot_topo(title='Inter-Trial coherence', vmin=0., vmax=0.5, cmap='Reds')"
   ]
  },
  {
   "cell_type": "code",
   "execution_count": null,
   "id": "305db656-a59a-4ed0-8f16-7a2fb62a8e0a",
   "metadata": {},
   "outputs": [],
   "source": []
  }
 ],
 "metadata": {
  "kernelspec": {
   "display_name": "Python 3",
   "language": "python",
   "name": "python3"
  },
  "language_info": {
   "codemirror_mode": {
    "name": "ipython",
    "version": 3
   },
   "file_extension": ".py",
   "mimetype": "text/x-python",
   "name": "python",
   "nbconvert_exporter": "python",
   "pygments_lexer": "ipython3",
   "version": "3.7.3"
  }
 },
 "nbformat": 4,
 "nbformat_minor": 5
}
